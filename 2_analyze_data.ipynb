{
 "cells": [
  {
   "cell_type": "markdown",
   "id": "32453a16-f639-477e-b487-0acafad1e643",
   "metadata": {
    "tags": []
   },
   "source": [
    "# Analyze Data"
   ]
  },
  {
   "cell_type": "code",
   "execution_count": null,
   "id": "692db183-7f9f-4d1a-a0dd-b947d726180e",
   "metadata": {
    "tags": [],
    "vscode": {
     "languageId": "r"
    }
   },
   "outputs": [],
   "source": [
    "library(arrow, warn.conflicts = FALSE)\n",
    "library(dplyr, warn.conflicts = FALSE)\n",
    "library(ggplot2, warn.conflicts = FALSE)\n",
    "library(rlang, warn.conflicts = FALSE)\n",
    "library(table1, warn.conflicts = FALSE)\n",
    "library(broom, warn.conflicts = FALSE)\n",
    "library(forcats, warn.conflicts = FALSE)\n",
    "library(splines)\n",
    "library(emmeans)\n",
    "\n",
    "\n",
    "library(survival, warn.conflicts = FALSE)\n",
    "library(survminer, warn.conflicts = FALSE)\n",
    "library(stringr)"
   ]
  },
  {
   "cell_type": "code",
   "execution_count": null,
   "id": "e8490f5f-1914-429e-8dcd-1ebe1dfb6252",
   "metadata": {
    "tags": [],
    "vscode": {
     "languageId": "r"
    }
   },
   "outputs": [],
   "source": [
    "library(truveta.research)"
   ]
  },
  {
   "cell_type": "code",
   "execution_count": null,
   "id": "62848668-5040-4ab2-bb8b-497fbd292409",
   "metadata": {
    "tags": []
   },
   "outputs": [],
   "source": [
    "source(here::here(\"wrangle_scripts\", \"R\", \"write_as_xtable.r\"))\n",
    "source(here::here(\"wrangle_scripts\", \"R\", \"survival_helpers.r\"))\n",
    "source(here::here(\"wrangle_scripts\", \"R\", \"analyze_time_indep.r\"))\n",
    "source(here::here(\"wrangle_scripts\", \"R\", \"analyze_time_dependent.r\"))"
   ]
  },
  {
   "cell_type": "code",
   "execution_count": null,
   "id": "14423e28-31ba-47f8-9dc5-2b9230e31e63",
   "metadata": {
    "tags": [],
    "vscode": {
     "languageId": "r"
    }
   },
   "outputs": [],
   "source": [
    "tracking_dir <- here::here(\"tracking\")\n",
    "datadefs_dir <- file.path(tracking_dir, \"datadefs\")\n",
    "hashsum_dir <- file.path(tracking_dir, \"hashsums\")\n",
    "dir.create(hashsum_dir, recursive = TRUE, showWarnings = FALSE)\n",
    "\n",
    "results_dir <- here::here(\"results\")\n",
    "data_dir <- here::here(\"data\")\n",
    "dir.create(data_dir, recursive = TRUE, showWarnings = FALSE)\n",
    "dir.create(results_dir, recursive = TRUE, showWarnings = FALSE)"
   ]
  },
  {
   "cell_type": "code",
   "execution_count": null,
   "id": "b4f38bf7-4c42-46d6-a54e-9010f13ad6c8",
   "metadata": {},
   "outputs": [],
   "source": []
  },
  {
   "cell_type": "code",
   "execution_count": null,
   "id": "746badbc-6e0f-412c-879a-84273417583f",
   "metadata": {
    "tags": []
   },
   "outputs": [],
   "source": [
    "# constants\n",
    "\n",
    "one_year <- as.numeric(lubridate::dyears(1))\n",
    "one_day <- as.numeric(lubridate::ddays(1))\n",
    "one_week <- as.numeric(lubridate::dweeks(1))\n",
    "\n",
    "two_weeks <- as.numeric(lubridate::dweeks(2))\n",
    "\n",
    "wash_out <- as.numeric(lubridate::ddays(28))"
   ]
  },
  {
   "cell_type": "code",
   "execution_count": null,
   "id": "c646d1d6-46c4-4bba-8d9b-9593fabfba2a",
   "metadata": {},
   "outputs": [],
   "source": [
    "initialize_theme_truveta(figsize = c(8, 8))\n",
    "\n",
    "# starts with black\n",
    "cbPalette <- c(\"#999999\", \"#E69F00\", \"#56B4E9\", \"#009E73\", \"#F0E442\", \"#0072B2\", \"#D55E00\", \"#CC79A7\")"
   ]
  },
  {
   "cell_type": "code",
   "execution_count": null,
   "id": "31a34433-489b-43da-8392-c4a0d204b9c9",
   "metadata": {},
   "outputs": [],
   "source": [
    "summary_analysis <- list()"
   ]
  },
  {
   "cell_type": "code",
   "execution_count": null,
   "id": "1677283f-a2a4-4102-b305-7753db583a4c",
   "metadata": {
    "tags": []
   },
   "outputs": [],
   "source": [
    "theme_truveta <- \n",
    "  function (figsize = NULL) {\n",
    "    if (!is.null(figsize)) {\n",
    "        options(repr.plot.width = figsize[1], repr.plot.height = figsize[2])\n",
    "    }\n",
    "    else {\n",
    "        options(repr.plot.width = getOption(\"truveta.plot.width\"), \n",
    "            repr.plot.height = getOption(\"truveta.plot.height\"))\n",
    "    }\n",
    "    variant <- getOption(\"truveta.theme.variant\")\n",
    "    ggplot2::theme_minimal() + \n",
    "      ggplot2::theme(\n",
    "        legend.position = \"top\", \n",
    "        legend.justification = \"left\", \n",
    "        legend.title = ggplot2::element_blank(), \n",
    "        text = ggplot2::element_text(family = 'Open Sans', size = 15), \n",
    "        plot.title = \n",
    "          ggplot2::element_text(\n",
    "            size = 20, \n",
    "            colour = ifelse(variant == \"official\", official_primary_color2, \"#5068DA\"), hjust = 0), \n",
    "        #axis.title.x = ggplot2::element_text(hjust = 1),\n",
    "        axis.text.y = element_text(hjust = 0.5, colour = 'black'),\n",
    "        axis.text.x = element_text(colour = 'black')\n",
    "      )\n",
    "  }"
   ]
  },
  {
   "cell_type": "markdown",
   "id": "bde3233b-d616-4172-afc7-9b56ce391518",
   "metadata": {},
   "source": [
    "## Load Data"
   ]
  },
  {
   "cell_type": "code",
   "execution_count": null,
   "id": "43c89bf3-6aa2-4eee-8a46-56b31b079840",
   "metadata": {
    "tags": [],
    "vscode": {
     "languageId": "r"
    }
   },
   "outputs": [],
   "source": [
    "df <- read_parquet_table(file.path(data_dir, \"feature_table.parquet\"), hashsum_dir)"
   ]
  },
  {
   "cell_type": "code",
   "execution_count": null,
   "id": "d38b04e0-febd-4a55-b5d7-defe63389948",
   "metadata": {
    "tags": []
   },
   "outputs": [],
   "source": [
    "colnames(df)"
   ]
  },
  {
   "cell_type": "markdown",
   "id": "66d37438-8070-4292-997a-d7230f479767",
   "metadata": {
    "tags": []
   },
   "source": [
    "## Setup and utilities\n",
    "\n",
    "There are 3 major data versions to look at.\n",
    "\n",
    "- CDC long COVID definition as outcome\n",
    "- icd10 + snomed long COVID definition as outcome\n",
    "- remove patients with 0 time till outcome\n",
    "    - currently included "
   ]
  },
  {
   "cell_type": "markdown",
   "id": "41beb42f-fba9-461e-a613-4753b80883ee",
   "metadata": {},
   "source": [
    "# main analyses"
   ]
  },
  {
   "cell_type": "markdown",
   "id": "0546f396-215f-4ca5-82e6-7d519d0b19ac",
   "metadata": {},
   "source": [
    "## Simple analysis\n",
    "\n",
    "restrict to either \"vaccinated before covid\" or \"never vaccinated\"\n",
    "\n",
    "ignore effect of boosters"
   ]
  },
  {
   "cell_type": "markdown",
   "id": "5c9f9205-27b4-4707-9148-8030a9575a29",
   "metadata": {},
   "source": [
    "### simple w/ CDC outcome (symptoms)"
   ]
  },
  {
   "cell_type": "code",
   "execution_count": null,
   "id": "d6a1cde5-cdda-42e8-ae4c-e904eebc0f88",
   "metadata": {
    "tags": []
   },
   "outputs": [],
   "source": [
    "simple_cdc <- simple_analysis(df, time_long_covid)"
   ]
  },
  {
   "cell_type": "code",
   "execution_count": null,
   "id": "9a372ec0-8dbc-45d1-82e0-a010860f0ac3",
   "metadata": {
    "tags": []
   },
   "outputs": [],
   "source": [
    "summary_analysis$n_simple_cdc <- dplyr::n_distinct(simple_cdc$simple$person_id)\n",
    "\n",
    "\n",
    "# km graph\n",
    "g <-\n",
    "  simple_cdc$simple_km$km_graph +\n",
    "  ggplot2::labs(\n",
    "    title = stringr::str_wrap('Survival curves for time till developing Long COVID symptoms', 52),\n",
    "    subtitle = 'Vaccination status at time of COVID infection'\n",
    "  )\n",
    "\n",
    "write_ggplot(g, file.path(results_dir, \"km_time_simple.png\"))\n",
    "\n",
    "g\n",
    "\n",
    "# cox model summary table\n",
    "write_table(\n",
    "  simple_cdc$simple_cox$cox_table, \n",
    "  filepath = file.path(results_dir, 'cox_summary_simple.csv')\n",
    ")\n",
    "\n",
    "\n",
    "# cox model estimates\n",
    "gh <- \n",
    "  simple_cdc$simple_cox$cox_hr +\n",
    "  ggplot2::labs(\n",
    "    title = 'Hazard ratio for risk of developing Long COVID symptoms',\n",
    "    subtitle = 'Vaccination status at time of COVID infection'\n",
    "  )\n",
    "\n",
    "write_ggplot(gh, file.path(results_dir,\"cox_simple_hr.png\"))\n",
    "\n",
    "\n",
    "# hazard table\n",
    "caption <- \n",
    "  paste0(\n",
    "    \"Estimated hazard ratios for risk of developing Long COVID symptoms based on vaccination status at time of COVID infection. \",\n",
    "    \"Hazard ratios are presented with 95\\\\% confidence intervals.\"\n",
    "  )\n",
    "write_hazard_table(simple_cdc$sp_table, \"cox_simple_emm_pairs\", results_dir, caption)\n",
    "\n",
    "\n",
    "# hazard ratios\n",
    "gr <- \n",
    "  ggplot2::ggplot(simple_cdc$sp_table, ggplot2::aes(x = ratio, y = comparison)) +\n",
    "  ggplot2::geom_vline(xintercept = 1, linetype = 'dashed') +\n",
    "  ggplot2::geom_pointrange(\n",
    "    mapping = ggplot2::aes(xmin = conf.low, xmax = conf.high)\n",
    "  ) +\n",
    "  theme_truveta() +\n",
    "  scale_y_discrete(labels = function(x) str_wrap(x, width = 10)) +\n",
    "  ggplot2::labs(\n",
    "    title = stringr::str_wrap('Hazard ratio for risk of developing Long COVID symptoms', 47),\n",
    "    subtitle = 'Vaccination status at time of COVID infection',\n",
    "    x = 'Hazard Ratio',\n",
    "    y = 'Comparison'\n",
    "  )\n",
    "\n",
    "write_ggplot(gr, file.path(results_dir, 'cox_simple_emm_pairs.png'))\n",
    "\n",
    "gr"
   ]
  },
  {
   "cell_type": "code",
   "execution_count": null,
   "id": "7c388f82-2e61-4bb5-b36b-d2d30836a3aa",
   "metadata": {},
   "outputs": [],
   "source": []
  },
  {
   "cell_type": "markdown",
   "id": "38e3fa0d-76e2-4277-8947-af360dba8832",
   "metadata": {},
   "source": [
    "### simple w/ diagnosis outcome (icd10/snomed codes)"
   ]
  },
  {
   "cell_type": "code",
   "execution_count": null,
   "id": "9e0f14c0-e623-40e5-9bbb-fdf9fc12f179",
   "metadata": {
    "tags": []
   },
   "outputs": [],
   "source": [
    "# alternate diagnosis based outcome\n",
    "\n",
    "simple_diagnosis <- simple_analysis(df, time_long_covid_diagnosis)"
   ]
  },
  {
   "cell_type": "code",
   "execution_count": null,
   "id": "e0d9169d-6e83-4bfc-a0c8-67f4fca5f258",
   "metadata": {
    "tags": []
   },
   "outputs": [],
   "source": [
    "summary_analysis$n_simple_diagnosis <- dplyr::n_distinct(simple_diagnosis$simple$person_id)\n",
    "\n",
    "\n",
    "# km graph\n",
    "g <- \n",
    "  simple_diagnosis$simple_km$km_graph +\n",
    "  ggplot2::labs(\n",
    "    title = stringr::str_wrap('Survival curves for time till being diagnosed with Long COVID', 51),\n",
    "    subtitle = 'Vaccination status at time of COVID infection'\n",
    "  )\n",
    "    \n",
    "write_ggplot(g, file.path(results_dir, \"km_time_simple_alt.png\"))\n",
    "\n",
    "g\n",
    "\n",
    "\n",
    "# cox model summary table\n",
    "write_table(\n",
    "  simple_diagnosis$simple_cox$cox_table, \n",
    "  filepath = file.path(results_dir, 'cox_summary_simple_alt.csv')\n",
    ")\n",
    "\n",
    "\n",
    "# cox model estimates\n",
    "gh <- \n",
    "  simple_diagnosis$simple_cox$cox_hr +\n",
    "  ggplot2::labs(\n",
    "    title = 'Hazard ratio for risk of being diagnosed with Long COVID',\n",
    "    subtitle = 'Vaccination status at time of COVID infection'\n",
    "  )\n",
    "\n",
    "write_ggplot(gh, file.path(results_dir,\"cox_simple_hr_alt.png\"))\n",
    "\n",
    "\n",
    "# hazard table\n",
    "caption <- \n",
    "  paste0(\n",
    "    \"Estimated hazard ratios for risk of being diagnosed with Long COVID based on vaccination status at time of COVID infection. \",\n",
    "    \"Hazard ratios are presented with 95\\\\% confidence intervals.\"\n",
    "  )\n",
    "write_hazard_table(simple_diagnosis$sp_table, \"cox_simple_alt_emm_pairs\", results_dir, caption)\n",
    "\n",
    "\n",
    "# hazard ratios\n",
    "gr <- \n",
    "  ggplot2::ggplot(simple_diagnosis$sp_table, ggplot2::aes(x = ratio, y = comparison)) +\n",
    "  ggplot2::geom_vline(xintercept = 1, linetype = 'dashed') +\n",
    "  ggplot2::geom_pointrange(\n",
    "    mapping = ggplot2::aes(xmin = conf.low, xmax = conf.high)\n",
    "  ) +\n",
    "  theme_truveta() +\n",
    "  scale_y_discrete(labels = function(x) str_wrap(x, width = 10)) +\n",
    "  ggplot2::labs(\n",
    "    title = stringr::str_wrap('Hazard ratio for risk of being diagnosed with Long COVID', 46),\n",
    "    subtitle = 'Vaccination status at time of COVID infection',\n",
    "    x = 'Hazard Ratio',\n",
    "    y = 'Comparison'\n",
    "  )\n",
    "\n",
    "gr\n",
    "\n",
    "write_ggplot(gr, file.path(results_dir, 'cox_simple_alt_emm_pairs.png'))"
   ]
  },
  {
   "cell_type": "code",
   "execution_count": null,
   "id": "5c5d5748-41ad-49c9-85e7-a4d4f6d87438",
   "metadata": {},
   "outputs": [],
   "source": []
  },
  {
   "cell_type": "markdown",
   "id": "7e5ebd7f-0182-41ec-99c6-3f8c97e7763e",
   "metadata": {},
   "source": [
    "## Time dependent vaccination/boosting"
   ]
  },
  {
   "cell_type": "markdown",
   "id": "b91c1947-cd51-4df5-9006-501a934720af",
   "metadata": {},
   "source": [
    "### time dependent w/ CDC outcome (symptoms)"
   ]
  },
  {
   "cell_type": "code",
   "execution_count": null,
   "id": "d90c78b4-0fa9-4961-9a5a-0c2ec0be63eb",
   "metadata": {
    "tags": []
   },
   "outputs": [],
   "source": [
    "timedep_cdc <- time_dependent_analysis(df, time_long_covid)"
   ]
  },
  {
   "cell_type": "code",
   "execution_count": null,
   "id": "aca3b500-c7e9-4243-be18-451d330aef9d",
   "metadata": {
    "tags": []
   },
   "outputs": [],
   "source": [
    "summary_analysis$n_timedep_cdc <- dplyr::n_distinct(timedep_cdc$time$person_id)\n",
    "\n",
    "\n",
    "# km graph\n",
    "g <-\n",
    "  timedep_cdc$time_km$km_graph +\n",
    "  ggplot2::labs(\n",
    "    title = stringr::str_wrap('Survival curves for time till developing Long COVID symptoms', 52),\n",
    "    subtitle = 'Time-dependent vaccination status'\n",
    "  )\n",
    "\n",
    "write_ggplot(g, file.path(results_dir,\"km_time_dep.png\"))  \n",
    "\n",
    "g\n",
    "\n",
    "\n",
    "# cox model summary table\n",
    "write_table(\n",
    "  timedep_cdc$time_cox$cox_table, \n",
    "  filepath = file.path(results_dir, 'cox_summary_dep.csv')\n",
    ")\n",
    "\n",
    "\n",
    "# cox model estimates\n",
    "gh <- \n",
    "  timedep_cdc$time_cox$cox_hr +\n",
    "  ggplot2::labs(\n",
    "    title = 'Hazard ratio for risk of developing Long COVID symptoms',\n",
    "    subtitle = 'Time-dependent vaccination status'\n",
    "  )\n",
    "\n",
    "write_ggplot(gh, file.path(results_dir, \"cox_time_dep_hr.png\"))\n",
    "\n",
    "\n",
    "# hazard table\n",
    "caption <- \n",
    "  paste0(\n",
    "    \"Estimated hazard ratios for risk of developing Long COVID symptoms associated with vaccination status where vaccination status is modeled as time-dependent covariates. \",\n",
    "    \"Hazard ratios are presented with 95\\\\% confidence intervals.\"\n",
    "  )\n",
    "write_hazard_table(timedep_cdc$time_table, \"cox_time_dep_emm_pairs\", results_dir, caption)\n",
    "\n",
    "\n",
    "# hazard ratios\n",
    "gr <- \n",
    "  ggplot2::ggplot(timedep_cdc$time_table, ggplot2::aes(x = ratio, y = comparison)) +\n",
    "  ggplot2::geom_vline(xintercept = 1, linetype = 'dashed') +\n",
    "  ggplot2::geom_pointrange(mapping = ggplot2::aes(xmin = conf.low, xmax = conf.high)) +\n",
    "  theme_truveta() +\n",
    "  scale_y_discrete(labels = function(x) str_wrap(x, width = 10)) +\n",
    "  ggplot2::labs(\n",
    "    title = stringr::str_wrap('Hazard ratio for risk of developing Long COVID symptoms', 47),\n",
    "    subtitle = 'Time-dependent vaccination status',\n",
    "    x = 'Hazard Ratio',\n",
    "    y = 'Comparison'\n",
    "  )\n",
    "\n",
    "gr\n",
    "\n",
    "write_ggplot(gr, file.path(results_dir, 'cox_time_dep_emm_pairs.png'))"
   ]
  },
  {
   "cell_type": "code",
   "execution_count": null,
   "id": "8b60e5f2-da8d-4ea3-abc0-b1f8dca90716",
   "metadata": {},
   "outputs": [],
   "source": []
  },
  {
   "cell_type": "markdown",
   "id": "cbc4b77d-66aa-4805-85a0-85ba2d33da83",
   "metadata": {
    "tags": []
   },
   "source": [
    "### time dependent w/ diagnosis outcome (icd10/snomed codes)"
   ]
  },
  {
   "cell_type": "code",
   "execution_count": null,
   "id": "f6b4ccee-38a6-44f2-baa2-6c128d9ed136",
   "metadata": {},
   "outputs": [],
   "source": [
    "timedep_diagnosis <- time_dependent_analysis(df, time_long_covid_diagnosis)"
   ]
  },
  {
   "cell_type": "code",
   "execution_count": null,
   "id": "dca36c9c-b005-42fc-a87a-2890686e9f6e",
   "metadata": {},
   "outputs": [],
   "source": [
    "summary_analysis$n_timedep_diagnosis <- dplyr::n_distinct(timedep_diagnosis$time$person_id)\n",
    "\n",
    "\n",
    "# km graph\n",
    "g <-\n",
    "  timedep_diagnosis$time_km$km_graph +\n",
    "  ggplot2::labs(\n",
    "    title = stringr::str_wrap('Survival curves for time till being diagnosed with Long COVID', 51),\n",
    "    subtitle = 'Time-dependent vaccination status'\n",
    "  )\n",
    "\n",
    "write_ggplot(g, file.path(results_dir,\"km_time_dep_alt.png\"))  \n",
    "\n",
    "g\n",
    "\n",
    "\n",
    "# cox model summary table\n",
    "write_table(\n",
    "  timedep_diagnosis$time_cox$cox_table, \n",
    "  filepath = file.path(results_dir, 'cox_summary_dep_alt.csv')\n",
    ")\n",
    "\n",
    "\n",
    "# cox model estimates\n",
    "gh <- \n",
    "  timedep_diagnosis$time_cox$cox_hr +\n",
    "  ggplot2::labs(\n",
    "    title = 'Hazard ratio for risk of being diagnosed with Long COVID',\n",
    "    subtitle = 'Time-dependent vaccination status'\n",
    "  )\n",
    "\n",
    "write_ggplot(gh, file.path(results_dir,\"cox_time_dep_hr_alt.png\"))\n",
    "\n",
    "\n",
    "# hazard table\n",
    "caption <-\n",
    "  paste0(\n",
    "    \"Estimated hazard ratios for risk of being diagnosed with Long COVID associated with vaccination status where vaccination status is modeled as time-dependent covariates. \",\n",
    "    \"Hazard ratios are presented with 95\\\\% confidence intervals.\"\n",
    "  )\n",
    "write_hazard_table(timedep_diagnosis$time_table, \"cox_time_dep_alt_emm_pairs\", results_dir, caption)\n",
    "\n",
    "\n",
    "# hazard ratios\n",
    "gr <- \n",
    "  ggplot2::ggplot(timedep_diagnosis$time_table, ggplot2::aes(x = ratio, y = comparison)) +\n",
    "  ggplot2::geom_vline(xintercept = 1, linetype = 'dashed') +\n",
    "  ggplot2::geom_pointrange(mapping = ggplot2::aes(xmin = conf.low, xmax = conf.high)) +\n",
    "  theme_truveta() +\n",
    "  scale_y_discrete(labels = function(x) str_wrap(x, width = 10)) +\n",
    "  ggplot2::labs(\n",
    "    title = stringr::str_wrap('Hazard ratio for risk of being diagnosed with Long COVID', 46),\n",
    "    subtitle = 'Time-dependent vaccination status',\n",
    "    x = 'Hazard Ratio',\n",
    "    y = 'Comparison'\n",
    "  )\n",
    "\n",
    "gr\n",
    "\n",
    "write_ggplot(gr, file.path(results_dir, 'cox_time_dep_alt_emm_pairs.png'))"
   ]
  },
  {
   "cell_type": "code",
   "execution_count": null,
   "id": "f57f5a7e-b852-4829-94b1-4fd86ee8a72c",
   "metadata": {},
   "outputs": [],
   "source": []
  },
  {
   "cell_type": "markdown",
   "id": "16767b6e-8d68-4863-8b9e-f82cae0bd61f",
   "metadata": {
    "tags": []
   },
   "source": [
    "# various sensitivity analyses"
   ]
  },
  {
   "cell_type": "markdown",
   "id": "0c4434d8-0a4a-4864-a231-677bcd8f1f3c",
   "metadata": {
    "tags": []
   },
   "source": [
    "## remove 0 time till outcome individuals"
   ]
  },
  {
   "cell_type": "markdown",
   "id": "59642331-6ccb-42f4-8990-6e7f0550d5c5",
   "metadata": {
    "tags": []
   },
   "source": [
    "### time dependent w/ CDC outcome (symptoms), removing 0 time till outcome individuals"
   ]
  },
  {
   "cell_type": "code",
   "execution_count": null,
   "id": "cbe43f44-3561-43be-ba41-90b87f283acc",
   "metadata": {},
   "outputs": [],
   "source": [
    "timedep_nozero_cdc <- \n",
    "  time_dependent_analysis(df, time_long_covid, keep_zeroes = FALSE)"
   ]
  },
  {
   "cell_type": "code",
   "execution_count": null,
   "id": "439020c2-e40d-4cd7-97f4-5afc5dde70f1",
   "metadata": {},
   "outputs": [],
   "source": [
    "summary_analysis$n_timedep_nozero_cdc <- \n",
    "  dplyr::n_distinct(timedep_nozero_cdc$time$person_id)\n",
    "\n",
    "\n",
    "# km graph\n",
    "g <-\n",
    "  timedep_nozero_cdc$time_km$km_graph +\n",
    "  ggplot2::labs(\n",
    "    title = stringr::str_wrap('Survival curves for time till developing Long COVID symptoms', 52),\n",
    "    subtitle = 'Time-dependent vaccination status'\n",
    "  )\n",
    "\n",
    "write_ggplot(g, file.path(results_dir,\"km_time_dep_nozero.png\"))  \n",
    "\n",
    "g\n",
    "\n",
    "\n",
    "# cox model summary table\n",
    "write_table(\n",
    "  timedep_nozero_cdc$time_cox$cox_table, \n",
    "  filepath = file.path(results_dir, 'cox_summary_dep_nozero.csv')\n",
    ")\n",
    "\n",
    "\n",
    "# cox model estimates\n",
    "gh <- \n",
    "  timedep_nozero_cdc$time_cox$cox_hr +\n",
    "  ggplot2::labs(\n",
    "    title = 'Hazard ratio for risk of developing Long COVID symptoms',\n",
    "    subtitle = 'Time-dependent vaccination status'\n",
    "  )\n",
    "\n",
    "write_ggplot(gh, file.path(results_dir,\"cox_time_dep_hr_nozero.png\"))\n",
    "\n",
    "\n",
    "# hazard table\n",
    "caption <- \n",
    "  paste0(\n",
    "    \"Estimated hazard ratios for risk of developing Long COVID symptoms associated with vaccination status where vaccination status is modeled as time-dependent covariates. \",\n",
    "    \"Hazard ratios are presented with 95\\\\% confidence intervals.\"\n",
    "  )\n",
    "write_hazard_table(timedep_nozero_cdc$time_table, \"cox_time_dep_nozero_emm_pairs\", results_dir, caption)\n",
    "\n",
    "\n",
    "# hazard ratios\n",
    "gr <- \n",
    "  ggplot2::ggplot(timedep_nozero_cdc$time_table, ggplot2::aes(x = ratio, y = comparison)) +\n",
    "  ggplot2::geom_vline(xintercept = 1, linetype = 'dashed') +\n",
    "  ggplot2::geom_pointrange(mapping = ggplot2::aes(xmin = conf.low, xmax = conf.high)) +\n",
    "  theme_truveta() +\n",
    "  scale_y_discrete(labels = function(x) str_wrap(x, width = 10)) +\n",
    "  ggplot2::labs(\n",
    "    title = stringr::str_wrap('Hazard ratio for risk of developing Long COVID symptoms', 47),\n",
    "    subtitle = 'Time-dependent vaccination status',\n",
    "    x = 'Hazard Ratio',\n",
    "    y = 'Comparison'\n",
    "  )\n",
    "\n",
    "gr\n",
    "\n",
    "write_ggplot(gr, file.path(results_dir, 'cox_time_dep_nozero_emm_pairs.png'))"
   ]
  },
  {
   "cell_type": "code",
   "execution_count": null,
   "id": "dab5ef9a-ac74-49bb-b976-9e19107d8227",
   "metadata": {},
   "outputs": [],
   "source": []
  },
  {
   "cell_type": "markdown",
   "id": "98ccb920-ee35-4f67-8e70-0daab3459ed2",
   "metadata": {},
   "source": [
    "### time dependent w/ diagnosis outcome (icd10/snomed codes), removing 0 time till outcome individausl"
   ]
  },
  {
   "cell_type": "code",
   "execution_count": null,
   "id": "393f5e0e-2ab9-4081-81ab-1a017f4d2a94",
   "metadata": {
    "tags": []
   },
   "outputs": [],
   "source": [
    "timedep_nozero_diagnosis <- \n",
    " time_dependent_analysis(df, time_long_covid_diagnosis, keep_zeroes = FALSE)"
   ]
  },
  {
   "cell_type": "code",
   "execution_count": null,
   "id": "c75d744d-e484-43c5-9e8d-a8e9a7f81093",
   "metadata": {
    "tags": []
   },
   "outputs": [],
   "source": [
    "summary_analysis$n_timedep_nozero_diagnosis <- \n",
    "  dplyr::n_distinct(timedep_nozero_diagnosis$time$person_id)\n",
    "\n",
    "\n",
    "# km graph\n",
    "g <-\n",
    "  timedep_nozero_diagnosis$time_km$km_graph +\n",
    "  ggplot2::labs(\n",
    "    title = stringr::str_wrap('Survival curves for time till being diagnosed with Long COVID', 51),\n",
    "    subtitle = 'Time-dependent vaccination status'\n",
    "  )\n",
    "\n",
    "write_ggplot(g, file.path(results_dir,\"km_time_dep_nozero_alt.png\"))  \n",
    "\n",
    "g\n",
    "\n",
    "\n",
    "# cox model summary table\n",
    "write_table(\n",
    "  timedep_nozero_diagnosis$time_cox$cox_table, \n",
    "  filepath = file.path(results_dir, 'cox_summary_dep_nozero_alt.csv')\n",
    ")\n",
    "\n",
    "\n",
    "# cox model estimates\n",
    "gh <- \n",
    "  timedep_nozero_diagnosis$time_cox$cox_hr +\n",
    "  ggplot2::labs(\n",
    "    title = 'Hazard ratio for risk of being diagnosed with Long COVID',\n",
    "    subtitle = 'Time-dependent vaccination status'\n",
    "  )\n",
    "\n",
    "write_ggplot(gh, file.path(results_dir,\"cox_time_dep_hr_nozero_alt.png\"))\n",
    "\n",
    "\n",
    "# hazard table\n",
    "caption <-\n",
    "  paste0(\n",
    "    \"Estimated hazard ratios for risk of being diagnosed with Long COVID associated with vaccination status where vaccination status is modeled as time-dependent covariates. \",\n",
    "    \"Hazard ratios are presented with 95\\\\% confidence intervals.\"\n",
    "  )\n",
    "write_hazard_table(timedep_nozero_diagnosis$time_table, \"cox_time_dep_nozero_alt_emm_pairs\", results_dir, caption)\n",
    "\n",
    "\n",
    "# hazard ratios\n",
    "gr <- \n",
    "  ggplot2::ggplot(timedep_nozero_diagnosis$time_table, ggplot2::aes(x = ratio, y = comparison)) +\n",
    "  ggplot2::geom_vline(xintercept = 1, linetype = 'dashed') +\n",
    "  ggplot2::geom_pointrange(mapping = ggplot2::aes(xmin = conf.low, xmax = conf.high)) +\n",
    "  theme_truveta() +\n",
    "  scale_y_discrete(labels = function(x) str_wrap(x, width = 10)) +\n",
    "  ggplot2::labs(\n",
    "    title = stringr::str_wrap('Hazard ratio for risk of being diagnosed with Long COVID', 46),\n",
    "    subtitle = 'Time-dependent vaccination status',\n",
    "    x = 'Hazard Ratio',\n",
    "    y = 'Comparison'\n",
    "  )\n",
    "\n",
    "gr\n",
    "\n",
    "write_ggplot(gr, file.path(results_dir, 'cox_time_dep_nozero_alt_emm_pairs.png'))"
   ]
  },
  {
   "cell_type": "code",
   "execution_count": null,
   "id": "a6fe47d8-6962-49c9-bcf0-544b579b55af",
   "metadata": {},
   "outputs": [],
   "source": []
  },
  {
   "cell_type": "markdown",
   "id": "967d010c-072d-4904-b4ab-22deedcfeddb",
   "metadata": {
    "tags": []
   },
   "source": [
    "## just vaccinations after\n",
    "\n",
    "exclude everyone who got vaccinated before getting covid\n",
    "\n",
    "this mimics some analyses i've seen that look only at populations vaccinated after covid infection.\n",
    "\n",
    "we will still treat vaccination and boosting as time dependent covariates"
   ]
  },
  {
   "cell_type": "markdown",
   "id": "0d75286f-c9cf-4d98-8c9e-93ae3dcbce99",
   "metadata": {},
   "source": [
    "### symptoms, time dependent, after"
   ]
  },
  {
   "cell_type": "code",
   "execution_count": null,
   "id": "6ae2dec3-83d4-4f12-bfb3-33dc21c4048b",
   "metadata": {},
   "outputs": [],
   "source": [
    "timedep_after_cdc <- time_dependent_analysis(df, time_long_covid, only_after = TRUE)"
   ]
  },
  {
   "cell_type": "code",
   "execution_count": null,
   "id": "282c1902-2e13-44e1-8505-983e9dabcd42",
   "metadata": {},
   "outputs": [],
   "source": [
    "summary_analysis$n_timedep_after_cdc <- dplyr::n_distinct(timedep_after_cdc$time$person_id)\n",
    "\n",
    "\n",
    "# km graph\n",
    "g <-\n",
    "  timedep_after_cdc$time_km$km_graph +\n",
    "  ggplot2::labs(\n",
    "    title = stringr::str_wrap('Survival curves for time till developing Long COVID symptoms', 52),\n",
    "    subtitle = 'Time-dependent vaccination status'\n",
    "  )\n",
    "\n",
    "write_ggplot(g, file.path(results_dir,\"km_time_dep_after_cdc.png\"))  \n",
    "\n",
    "g\n",
    "\n",
    "\n",
    "# cox model summary table\n",
    "write_table(\n",
    "  timedep_after_cdc$time_cox$cox_table, \n",
    "  filepath = file.path(results_dir, 'cox_summary_dep_after_cdc.csv')\n",
    ")\n",
    "\n",
    "\n",
    "# cox model estimates\n",
    "gh <- \n",
    "  timedep_after_cdc$time_cox$cox_hr +\n",
    "  ggplot2::labs(\n",
    "    title = 'Hazard ratio for risk of developing Long COVID symptoms',\n",
    "    subtitle = 'Time-dependent vaccination status'\n",
    "  )\n",
    "\n",
    "write_ggplot(gh, file.path(results_dir,\"cox_time_dep_hr_after_cdc.png\"))\n",
    "\n",
    "\n",
    "# hazard table\n",
    "caption <- \n",
    "  paste0(\n",
    "    \"Estimated hazard ratios for risk of developing Long COVID symptoms associated with vaccination status where vaccination status is modeled as time-dependent covariates. \",\n",
    "    \"Hazard ratios are presented with 95\\\\% confidence intervals.\"\n",
    "  )\n",
    "write_hazard_table(timedep_after_cdc$time_table, \"cox_time_dep_after_emm_pairs\", results_dir, caption)\n",
    "\n",
    "\n",
    "# hazard ratios\n",
    "gr <- \n",
    "  ggplot2::ggplot(timedep_after_cdc$time_table, ggplot2::aes(x = ratio, y = comparison)) +\n",
    "  ggplot2::geom_vline(xintercept = 1, linetype = 'dashed') +\n",
    "  ggplot2::geom_pointrange(mapping = ggplot2::aes(xmin = conf.low, xmax = conf.high)) +\n",
    "  theme_truveta() +\n",
    "  scale_y_discrete(labels = function(x) str_wrap(x, width = 10)) +\n",
    "  ggplot2::labs(\n",
    "    title = stringr::str_wrap('Hazard ratio for risk of developing Long COVID symptoms', 47),\n",
    "    subtitle = 'Time-dependent vaccination status',\n",
    "    x = 'Hazard Ratio',\n",
    "    y = 'Comparison'\n",
    "  )\n",
    "\n",
    "gr\n",
    "\n",
    "write_ggplot(gr, file.path(results_dir, 'cox_time_dep_after_emm_pairs_cdc.png'))"
   ]
  },
  {
   "cell_type": "markdown",
   "id": "90d08646-3e09-4ead-9116-37f5152f8bdf",
   "metadata": {},
   "source": [
    "### diagnosis, time dependent, after"
   ]
  },
  {
   "cell_type": "code",
   "execution_count": null,
   "id": "2688f980-92b4-4983-b3f0-f24b3689a3a9",
   "metadata": {
    "tags": []
   },
   "outputs": [],
   "source": [
    "timedep_after_diagnosis <- time_dependent_analysis(df, time_long_covid_diagnosis, only_after = TRUE)"
   ]
  },
  {
   "cell_type": "code",
   "execution_count": null,
   "id": "84ee45ea-68cc-4c5b-8544-27ff392140bb",
   "metadata": {
    "tags": []
   },
   "outputs": [],
   "source": [
    "summary_analysis$n_timedep_after_diagnosis <- dplyr::n_distinct(timedep_after_diagnosis$time$person_id)\n",
    "\n",
    "\n",
    "# km graph\n",
    "g <-\n",
    "  timedep_after_diagnosis$time_km$km_graph +\n",
    "  ggplot2::labs(\n",
    "    title = stringr::str_wrap('Survival curves for time till being diagnosed with Long COVID', 51),\n",
    "    subtitle = 'Time-dependent vaccination status'\n",
    "  )\n",
    "\n",
    "write_ggplot(g, file.path(results_dir,\"km_time_dep_after_diag.png\"))  \n",
    "\n",
    "g\n",
    "\n",
    "\n",
    "# cox model summary table\n",
    "write_table(\n",
    "  timedep_after_diagnosis$time_cox$cox_table, \n",
    "  filepath = file.path(results_dir, 'cox_summary_dep_after_diag.csv')\n",
    ")\n",
    "\n",
    "\n",
    "# cox model estimates\n",
    "gh <- \n",
    "  timedep_after_diagnosis$time_cox$cox_hr +\n",
    "  ggplot2::labs(\n",
    "    title = 'Hazard ratio for risk of being diagnosed with Long COVID',\n",
    "    subtitle = 'Time-dependent vaccination status'\n",
    "  )\n",
    "\n",
    "write_ggplot(gh, file.path(results_dir,\"cox_time_dep_hr_after_diag.png\"))\n",
    "\n",
    "\n",
    "# hazard table\n",
    "caption <-\n",
    "  paste0(\n",
    "    \"Estimated hazard ratios for risk of being diagnosed with Long COVID associated with vaccination status where vaccination status is modeled as time-dependent covariates. \",\n",
    "    \"Hazard ratios are presented with 95\\\\% confidence intervals.\"\n",
    "  )\n",
    "write_hazard_table(timedep_after_diagnosis$time_table, \"cox_time_dep_after_emm_pairs_diag\", results_dir, caption)\n",
    "\n",
    "\n",
    "# hazard ratios\n",
    "gr <- \n",
    "  ggplot2::ggplot(timedep_after_diagnosis$time_table, ggplot2::aes(x = ratio, y = comparison)) +\n",
    "  ggplot2::geom_vline(xintercept = 1, linetype = 'dashed') +\n",
    "  ggplot2::geom_pointrange(mapping = ggplot2::aes(xmin = conf.low, xmax = conf.high)) +\n",
    "  theme_truveta() +\n",
    "  scale_y_discrete(labels = function(x) str_wrap(x, width = 10)) +\n",
    "  ggplot2::labs(\n",
    "    title = stringr::str_wrap('Hazard ratio for risk of being diagnosed with Long COVID', 46),\n",
    "    subtitle = 'Time-dependent vaccination status',\n",
    "    x = 'Hazard Ratio',\n",
    "    y = 'Comparison'\n",
    "  )\n",
    "\n",
    "gr\n",
    "\n",
    "write_ggplot(gr, file.path(results_dir, 'cox_time_dep_after_emm_pairs_diag.png'))"
   ]
  },
  {
   "cell_type": "code",
   "execution_count": null,
   "id": "98424cc4-ab86-4d64-b11c-d4582b60d1b2",
   "metadata": {},
   "outputs": [],
   "source": []
  },
  {
   "cell_type": "markdown",
   "id": "915bd266-ec8a-4bd6-8dc0-6572a5234131",
   "metadata": {
    "tags": []
   },
   "source": [
    "# export summary stats (mostly population sizes)"
   ]
  },
  {
   "cell_type": "code",
   "execution_count": null,
   "id": "6bb371bb-b641-4ee9-8b35-b517f146e52f",
   "metadata": {
    "tags": []
   },
   "outputs": [],
   "source": [
    "save(summary_analysis, file = file.path(results_dir, 'summary_analysis.rdata'))"
   ]
  }
 ],
 "metadata": {
  "kernelspec": {
   "display_name": "R",
   "language": "R",
   "name": "ir"
  },
  "language_info": {
   "codemirror_mode": "r",
   "file_extension": ".r",
   "mimetype": "text/x-r-source",
   "name": "R",
   "pygments_lexer": "r",
   "version": "4.1.3"
  },
  "toc-autonumbering": false,
  "toc-showcode": false
 },
 "nbformat": 4,
 "nbformat_minor": 5
}
