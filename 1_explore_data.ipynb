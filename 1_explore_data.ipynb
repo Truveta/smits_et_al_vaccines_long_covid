{
 "cells": [
  {
   "cell_type": "markdown",
   "id": "32453a16-f639-477e-b487-0acafad1e643",
   "metadata": {},
   "source": [
    "# Explore Data"
   ]
  },
  {
   "cell_type": "code",
   "execution_count": null,
   "id": "692db183-7f9f-4d1a-a0dd-b947d726180e",
   "metadata": {
    "tags": []
   },
   "outputs": [],
   "source": [
    "library(arrow, warn.conflicts = FALSE)\n",
    "library(dplyr, warn.conflicts = FALSE)\n",
    "library(ggplot2, warn.conflicts = FALSE)\n",
    "library(rlang, warn.conflicts = FALSE)\n",
    "library(table1, warn.conflicts = FALSE)\n",
    "library(lubridate, warn.conflicts = FALSE)\n",
    "library(xtable)"
   ]
  },
  {
   "cell_type": "code",
   "execution_count": null,
   "id": "e8490f5f-1914-429e-8dcd-1ebe1dfb6252",
   "metadata": {
    "tags": []
   },
   "outputs": [],
   "source": [
    "library(truveta.research)"
   ]
  },
  {
   "cell_type": "code",
   "execution_count": null,
   "id": "4e6bdb1f-cb50-4a21-8cb5-0d639ef498ec",
   "metadata": {
    "tags": []
   },
   "outputs": [],
   "source": [
    "source(here::here(\"wrangle_scripts\", \"R\", \"write_as_xtable.r\"))\n",
    "source(here::here(\"wrangle_scripts\", \"R\", \"survival_helpers.r\"))\n",
    "source(here::here(\"wrangle_scripts\", \"R\", \"analyze_time_indep.r\"))\n",
    "source(here::here(\"wrangle_scripts\", \"R\", \"analyze_time_dependent.r\"))"
   ]
  },
  {
   "cell_type": "code",
   "execution_count": null,
   "id": "14423e28-31ba-47f8-9dc5-2b9230e31e63",
   "metadata": {
    "tags": []
   },
   "outputs": [],
   "source": [
    "tracking_dir <- here::here(\"tracking\")\n",
    "datadefs_dir <- file.path(tracking_dir, \"datadefs\")\n",
    "hashsum_dir <- file.path(tracking_dir, \"hashsums\")\n",
    "dir.create(hashsum_dir, recursive = TRUE, showWarnings = FALSE)\n",
    "\n",
    "results_dir <- here::here(\"results\")\n",
    "data_dir <- here::here(\"data\")\n",
    "dir.create(results_dir, recursive = TRUE, showWarnings = FALSE)\n",
    "dir.create(data_dir, recursive = TRUE, showWarnings = FALSE)"
   ]
  },
  {
   "cell_type": "code",
   "execution_count": null,
   "id": "225e843f-69ff-47e3-baf7-588f699f72af",
   "metadata": {},
   "outputs": [],
   "source": [
    "one_year <- as.numeric(lubridate::dyears(1))\n",
    "\n",
    "two_weeks <- as.numeric(lubridate::dweeks(2))"
   ]
  },
  {
   "cell_type": "markdown",
   "id": "bde3233b-d616-4172-afc7-9b56ce391518",
   "metadata": {},
   "source": [
    "## Load Data"
   ]
  },
  {
   "cell_type": "code",
   "execution_count": null,
   "id": "4945beac-844e-479d-b71f-80100af4ba5e",
   "metadata": {
    "tags": []
   },
   "outputs": [],
   "source": [
    "df <- read_parquet_table(file.path(data_dir, \"feature_table.parquet\"), hashsum_dir)\n",
    "dim(df)\n",
    "names(df)"
   ]
  },
  {
   "cell_type": "code",
   "execution_count": null,
   "id": "62d6a6d9-05b7-4229-8f79-aec2693b15d2",
   "metadata": {
    "tags": []
   },
   "outputs": [],
   "source": [
    "table(df$race)"
   ]
  },
  {
   "cell_type": "code",
   "execution_count": null,
   "id": "629774cf-f4ea-4698-a7dd-f1f0da51dc01",
   "metadata": {
    "tags": []
   },
   "outputs": [],
   "source": [
    "# useful footnote\n",
    "black_footnote <- \"*Black refers to Black or African American Individuals\""
   ]
  },
  {
   "cell_type": "code",
   "execution_count": null,
   "id": "6b9cb300-c658-4c9f-af2d-ea2a74a47576",
   "metadata": {
    "tags": []
   },
   "outputs": [],
   "source": [
    "colnames(df)"
   ]
  },
  {
   "cell_type": "markdown",
   "id": "70e4be0c-233a-49ae-9481-c428b5faca5b",
   "metadata": {},
   "source": [
    "## Reference tools"
   ]
  },
  {
   "cell_type": "code",
   "execution_count": null,
   "id": "a1b5966d-bab7-4c94-8791-be1d1261bc6d",
   "metadata": {
    "tags": []
   },
   "outputs": [],
   "source": [
    "summary_values <- list()\n",
    "\n",
    "summary_values$n <- nrow(df)\n",
    "\n",
    "# ever\n",
    "summary_values$n_vaccinated <- sum(!is.na(df$age_vaccine_completed_years))\n",
    "summary_values$n_unvaccinated <- sum(is.na(df$age_vaccine_completed_years))\n",
    "summary_values$n_boost <- sum(!is.na(df$age_vaccine_boost_years))\n",
    "\n",
    "\n",
    "# before covid\n",
    "temp <- \n",
    "  df |>\n",
    "  dplyr::transmute(\n",
    "    pre_covid_vax = \n",
    "      dplyr::if_else(\n",
    "        age_covid < age_vaccine_completed_years | \n",
    "          is.na(age_vaccine_completed_years), \n",
    "        FALSE, \n",
    "        TRUE\n",
    "      ),\n",
    "    post_covid_vax = \n",
    "      dplyr::if_else(\n",
    "        !is.na(age_vaccine_completed_years) & \n",
    "          age_covid > age_vaccine_completed_years, \n",
    "        TRUE, \n",
    "        FALSE\n",
    "      ),\n",
    "    pre_covid_boost = \n",
    "      dplyr::if_else(\n",
    "        age_covid < age_vaccine_boost_years | \n",
    "          is.na(age_vaccine_boost_years), \n",
    "        FALSE, \n",
    "        TRUE\n",
    "      ),\n",
    "    post_covid_boost = \n",
    "      dplyr::if_else(\n",
    "        !is.na(age_vaccine_boost_years) & \n",
    "          age_covid > age_vaccine_boost_years, \n",
    "        TRUE, \n",
    "        FALSE\n",
    "      ),\n",
    "    long_covid_symptoms = !is.na(time_long_covid),\n",
    "    long_covid_diagnosis = !is.na(time_long_covid_diagnosis)\n",
    "  )\n",
    "\n",
    "summary_values$n_pre_vaccinated <- sum(temp$pre_covid_vax)\n",
    "summary_values$n_pre_boost <- sum(temp$pre_covid_boost)\n",
    "\n",
    "summary_values$n_pre_unvaccinated <- sum(!temp$pre_covid_vax)\n",
    "summary_values$n_pre_noboost <- sum(!temp$pre_covid_boost)\n",
    "\n",
    "summary_values$n_long_covid_symptoms <- sum(temp$long_covid_symptoms)\n",
    "summary_values$n_long_covid_diagnosis <- sum(temp$long_covid_diagnosis)\n",
    "\n",
    "# total ever vaccinated\n",
    "\n",
    "# total ever boosted\n",
    "\n",
    "\n",
    "save(summary_values, file = file.path(results_dir, 'summary_values.rdata'))"
   ]
  },
  {
   "cell_type": "markdown",
   "id": "c966954d-96aa-4f2a-bd31-530a50701808",
   "metadata": {},
   "source": [
    "## Exploratory Data Analysis"
   ]
  },
  {
   "cell_type": "code",
   "execution_count": null,
   "id": "4cf76717-1b0b-486e-ad03-f2e9f75fb116",
   "metadata": {},
   "outputs": [],
   "source": [
    "initialize_theme_truveta(figsize = c(8, 8))"
   ]
  },
  {
   "cell_type": "markdown",
   "id": "d3029b88-6f61-4cfa-8d8a-3dae9fdbe2ef",
   "metadata": {},
   "source": [
    "## demographic break down"
   ]
  },
  {
   "cell_type": "markdown",
   "id": "d8737de6-bf57-4b75-bb40-9296a8ee0e3c",
   "metadata": {},
   "source": [
    "### age"
   ]
  },
  {
   "cell_type": "code",
   "execution_count": null,
   "id": "d2ce479e-6049-4745-8d70-f7c819025387",
   "metadata": {
    "tags": []
   },
   "outputs": [],
   "source": [
    "age_counts <- \n",
    "  df |>\n",
    "  ggplot(aes(x = age, group = long_covid, fill = long_covid)) + \n",
    "  geom_histogram(bins = 50) +\n",
    "  geom_vline(xintercept = 18) +\n",
    "  theme_truveta()\n",
    "\n",
    "write_ggplot(age_counts, file.path(results_dir, \"age_counts.png\"))\n",
    "\n",
    "age_counts"
   ]
  },
  {
   "cell_type": "code",
   "execution_count": null,
   "id": "bb750664-0f6c-43cf-8358-4641ec12c88d",
   "metadata": {
    "tags": []
   },
   "outputs": [],
   "source": [
    "age_bucket_counts <- \n",
    "  df |>\n",
    "  ggplot(aes(x = age_group, group = long_covid, fill = long_covid)) +\n",
    "  geom_bar() +\n",
    "  theme_truveta()\n",
    "\n",
    "write_ggplot(age_bucket_counts, file.path(results_dir, \"age_bucket_counts.png\"))\n",
    "\n",
    "age_bucket_counts"
   ]
  },
  {
   "cell_type": "markdown",
   "id": "5a7d3abb-28ef-4ec6-8f3e-be6938e8b86c",
   "metadata": {},
   "source": [
    "### race"
   ]
  },
  {
   "cell_type": "code",
   "execution_count": null,
   "id": "c502ab86-8289-4f8f-9e7c-f0c4f8cc776c",
   "metadata": {
    "tags": []
   },
   "outputs": [],
   "source": [
    "race_counts <-\n",
    "  df |> \n",
    "  dplyr::group_by(long_covid) |>\n",
    "  dplyr::count(race) |>\n",
    "  ggplot(aes(x = race, y = n, group = long_covid, fill = long_covid)) +\n",
    "  geom_bar(stat = 'identity') +\n",
    "  theme_truveta()\n",
    "\n",
    "write_ggplot(race_counts, file.path(results_dir, \"race_counts.png\"))\n",
    "\n",
    "race_counts"
   ]
  },
  {
   "cell_type": "markdown",
   "id": "8c8cf079-e831-4763-bc36-cc7514959e3a",
   "metadata": {
    "tags": []
   },
   "source": [
    "### ethnicty"
   ]
  },
  {
   "cell_type": "code",
   "execution_count": null,
   "id": "e97aa0c5-0aac-493b-b334-0e1db596a7fe",
   "metadata": {
    "tags": []
   },
   "outputs": [],
   "source": [
    "ethnicity_counts <-\n",
    "  df |> \n",
    "  dplyr::group_by(long_covid) |>\n",
    "  dplyr::count(ethnicity) |>\n",
    "  ggplot(aes(x = ethnicity, y = n, group = long_covid, fill = long_covid)) +\n",
    "  geom_bar(stat = 'identity') +\n",
    "  theme_truveta()\n",
    "\n",
    "write_ggplot(ethnicity_counts, file.path(results_dir, \"ethnicity_counts.png\"))\n",
    "\n",
    "ethnicity_counts"
   ]
  },
  {
   "cell_type": "markdown",
   "id": "71798877-f47c-4b2a-a60e-5d82c97f6628",
   "metadata": {},
   "source": [
    "### sex"
   ]
  },
  {
   "cell_type": "code",
   "execution_count": null,
   "id": "34a6e697-01fe-4f95-8fc7-c4dcb080d215",
   "metadata": {
    "tags": []
   },
   "outputs": [],
   "source": [
    "sex_counts <-\n",
    "  df |> \n",
    "  group_by(long_covid) |>\n",
    "  dplyr::count(sex) |>\n",
    "  ggplot(aes(x = sex, y = n, group = long_covid, fill = long_covid)) +\n",
    "  geom_bar(stat = 'identity') +\n",
    "  theme_truveta()\n",
    "\n",
    "write_ggplot(sex_counts, file.path(results_dir, \"sex_counts.png\"))\n",
    "\n",
    "sex_counts"
   ]
  },
  {
   "cell_type": "markdown",
   "id": "616d9a8f-4020-4672-88b8-54b8ab3fa887",
   "metadata": {},
   "source": [
    "### count fully vaccinated before covid vs those unvaccinated when they got covid"
   ]
  },
  {
   "cell_type": "code",
   "execution_count": null,
   "id": "6ba71e35-9979-44a3-9e36-5e276bbd4151",
   "metadata": {
    "tags": []
   },
   "outputs": [],
   "source": [
    "vax_state <- \n",
    "  df |> \n",
    "  dplyr::transmute(\n",
    "    pre_vax = \n",
    "      dplyr::if_else(\n",
    "        age_covid < age_vaccine_completed_years | \n",
    "          is.na(age_vaccine_completed_years), \n",
    "        'no', \n",
    "        'yes'\n",
    "      ),\n",
    "    pre_boost = \n",
    "      dplyr::if_else(\n",
    "        age_covid < age_vaccine_boost_years | is.na(age_vaccine_boost_years),\n",
    "        'no',\n",
    "        'yes'\n",
    "      )\n",
    "  ) |>\n",
    "  tidyr::pivot_longer(everything()) |>\n",
    "  dplyr::group_by(name, value) |>\n",
    "  dplyr::count() |> \n",
    "  tidyr::pivot_wider(id_cols = value, names_from = name, values_from = n) |>\n",
    "  setNames(nm = c('vaccine_at_covid', 'booster', 'primary'))\n",
    "\n",
    "write_table(vax_state, file.path(results_dir, 'vaccine_state_at_covid.csv'))\n",
    "\n",
    "vax_state"
   ]
  },
  {
   "cell_type": "markdown",
   "id": "efabd591-86b3-4ed4-aa3a-18d5a8bea61a",
   "metadata": {},
   "source": [
    "### flu vaccinations"
   ]
  },
  {
   "cell_type": "code",
   "execution_count": null,
   "id": "56810831-2b84-49bd-ae63-e541626f4dac",
   "metadata": {
    "tags": []
   },
   "outputs": [],
   "source": [
    "df |> \n",
    "  group_by(long_covid) |>\n",
    "  dplyr::count(flu_vaccination) |>\n",
    "  ggplot2::ggplot(\n",
    "    ggplot2::aes(\n",
    "      x = flu_vaccination, \n",
    "      y = n, \n",
    "      group = long_covid, \n",
    "      fill = long_covid\n",
    "    )\n",
    "  ) +\n",
    "  ggplot2::geom_bar(stat = 'identity') +\n",
    "  theme_truveta()"
   ]
  },
  {
   "cell_type": "markdown",
   "id": "259c1de1-424f-4b02-b447-826bd580d01c",
   "metadata": {},
   "source": [
    "### inpatient encounters"
   ]
  },
  {
   "cell_type": "code",
   "execution_count": null,
   "id": "65c924cc-dd10-4e28-9dac-90d0d23e3b16",
   "metadata": {
    "tags": []
   },
   "outputs": [],
   "source": [
    "#df |> \n",
    "#  group_by(long_covid) |>\n",
    "#  dplyr::count(inpatient_count)\n",
    "\n",
    "summary(df$inpatient_count)"
   ]
  },
  {
   "cell_type": "markdown",
   "id": "6d043083-51d8-4351-b219-07bbf4246b91",
   "metadata": {},
   "source": [
    "### concordance between \"cdc long covid\" and \"code long covid\""
   ]
  },
  {
   "cell_type": "code",
   "execution_count": null,
   "id": "644dda5e-e556-4e7c-acfc-6dea223fb3f5",
   "metadata": {
    "tags": []
   },
   "outputs": [],
   "source": [
    "lc_crosstab <- table(df$long_covid, df$long_covid_diagnosis)\n",
    "lc_crosstab\n",
    "\n",
    "write.table(lc_crosstab, file = file.path(results_dir, 'long_covid_deff_crosstab.csv'))\n",
    "\n",
    "\n",
    "caption <- 'Contingecy table comparing overlap in differeing Long COVID outcomes among patients.'\n",
    "label <- 'tab:contingency'\n",
    "\n",
    "lc_crosstab_df <- \n",
    "  as.data.frame.matrix(lc_crosstab) |>\n",
    "  tibble::rownames_to_column() |>\n",
    "  tibble::as_tibble() |>\n",
    "  dplyr::mutate(\n",
    "    rowname = \n",
    "      dplyr::if_else(\n",
    "        rowname == 'long covid', \n",
    "        'Long COVID Symptoms', \n",
    "        'No Long COVID Symptoms'\n",
    "      )\n",
    "  ) |>\n",
    "  dplyr::rename(\n",
    "    `Long COVID Diagnosis` = `long covid diagnosis`,\n",
    "    `No Long COVID Diagnosis` = `no long covid diagnosis`,\n",
    "    `Symptoms / Diagnosis` = rowname\n",
    "  )\n",
    "\n",
    "lc_crosstab_df\n",
    "\n",
    "write_as_xtable(\n",
    "  lc_crosstab_df, \n",
    "  filepath = file.path(results_dir, 'long_covid_deff_crosstab.tex'), \n",
    "  caption = caption, \n",
    "  label = label\n",
    ")"
   ]
  },
  {
   "cell_type": "code",
   "execution_count": null,
   "id": "39bfd6d5-e96b-42de-8899-e58b3e403d52",
   "metadata": {
    "tags": []
   },
   "outputs": [],
   "source": [
    "df_crosstab <- \n",
    "  as.data.frame(lc_crosstab) |>\n",
    "  setNames(c('cdc', 'diagnosis', 'count'))\n",
    "\n",
    "write_table(df_crosstab, file.path(results_dir, 'long_covid_deff_crosstab_long.csv'))\n",
    "df_crosstab"
   ]
  },
  {
   "cell_type": "markdown",
   "id": "da148cf0-d1d5-45b3-aa9a-6f56a39a98db",
   "metadata": {},
   "source": [
    "### year month"
   ]
  },
  {
   "cell_type": "code",
   "execution_count": null,
   "id": "e6aa59f5-aa64-438a-bd51-4717cf3a68ad",
   "metadata": {
    "tags": []
   },
   "outputs": [],
   "source": [
    "year_month_count <- \n",
    "  df |>\n",
    "  dplyr::select(year_month) |>\n",
    "  dplyr::group_by(year_month) |>\n",
    "  dplyr::count() |>\n",
    "  dplyr::mutate(\n",
    "    year_month = stringr::str_replace_all(year_month, '_', '-'),\n",
    "    year_month = as.Date(paste(year_month, \"-01\", sep=\"\"))\n",
    "  )\n",
    "\n",
    "year_month_count_plot <- \n",
    "  ggplot(year_month_count, aes(x = year_month, y = n)) +\n",
    "  geom_line() +\n",
    "  geom_point() +\n",
    "  coord_trans(y = 'log') +\n",
    "  theme_truveta()\n",
    "\n",
    "write_ggplot(year_month_count_plot, file.path(results_dir, \"year_month_counts.png\"))\n",
    "\n",
    "year_month_count_plot"
   ]
  },
  {
   "cell_type": "markdown",
   "id": "ad284a26-24eb-4889-a3a1-48efef7c1667",
   "metadata": {},
   "source": [
    "### time between covid and fully vaccinated, of those who were vaccinated at some point"
   ]
  },
  {
   "cell_type": "code",
   "execution_count": null,
   "id": "b1339377-0770-4c3c-9331-7a9bdf8f0625",
   "metadata": {
    "tags": []
   },
   "outputs": [],
   "source": [
    "vaccine_time <- \n",
    "  df |> \n",
    "  dplyr::filter(!is.na(age_vaccine_completed)) |>\n",
    "  dplyr::mutate(covid_vaccine_diff = age_vaccine_completed_years - age_covid) |>\n",
    "  ggplot(aes(x = covid_vaccine_diff, group = long_covid, fill = long_covid)) +\n",
    "  geom_histogram(bins = 50) +\n",
    "  theme_truveta() +\n",
    "  labs(\n",
    "    title = 'age_vaccine_completed_years - age_covid',\n",
    "    subtitle = '(only individuals who have been vaccinated)',\n",
    "    x = 'Time difference (years)'\n",
    "  )\n",
    "\n",
    "write_ggplot(vaccine_time, file.path(results_dir, \"covid_vaccinated_counts.png\"))\n",
    "\n",
    "vaccine_time"
   ]
  },
  {
   "cell_type": "code",
   "execution_count": null,
   "id": "47e925c6-33fe-454b-8d1b-5606010f0f53",
   "metadata": {},
   "outputs": [],
   "source": []
  },
  {
   "cell_type": "markdown",
   "id": "bc61dc28-2492-41f2-87a2-73b75bf776ba",
   "metadata": {},
   "source": [
    "## explore analysis data stuff"
   ]
  },
  {
   "cell_type": "code",
   "execution_count": null,
   "id": "9c579ba4-180e-4e93-99a7-46fcce1a0452",
   "metadata": {
    "tags": []
   },
   "outputs": [],
   "source": [
    "df_simple <- make_simple_data(df, time_long_covid)"
   ]
  },
  {
   "cell_type": "code",
   "execution_count": null,
   "id": "8b02468b-cc28-48eb-a649-2ec687b6be95",
   "metadata": {
    "tags": []
   },
   "outputs": [],
   "source": [
    "df_time <- make_timedep_data(df, time_long_covid)"
   ]
  },
  {
   "cell_type": "code",
   "execution_count": null,
   "id": "9c6661a8-8a5c-457c-9b11-251f10e7e73c",
   "metadata": {},
   "outputs": [],
   "source": []
  },
  {
   "cell_type": "markdown",
   "id": "c45bab36-d90c-4efe-a0cd-d5a90c373f67",
   "metadata": {},
   "source": [
    "# Table 1"
   ]
  },
  {
   "cell_type": "code",
   "execution_count": null,
   "id": "6a011bba-ae82-4437-83b7-317b2154970b",
   "metadata": {
    "tags": []
   },
   "outputs": [],
   "source": [
    "names(df)"
   ]
  },
  {
   "cell_type": "code",
   "execution_count": null,
   "id": "d953d071-69e4-4c88-b497-fddd05bfbd25",
   "metadata": {
    "tags": []
   },
   "outputs": [],
   "source": [
    "df_tab1 <- \n",
    "  df |> \n",
    "  dplyr::mutate(\n",
    "    race = dplyr::if_else(race == 'Black', 'Black or African American', race),\n",
    "    dplyr::across(anxiety:depression, ~ as.logical(.x)),\n",
    "    flu_vaccinated = dplyr::if_else(flu_vaccination == 0, FALSE, TRUE),\n",
    "    vaccinated_at_covid = \n",
    "      dplyr::if_else(\n",
    "        age_vaccine_completed_years > age_covid | is.na(age_vaccine_completed_years),\n",
    "        FALSE,\n",
    "        TRUE\n",
    "      ),\n",
    "    boosted_at_covid = \n",
    "      dplyr::if_else(\n",
    "        age_vaccine_boost_years > age_covid | is.na(age_vaccine_boost_years),\n",
    "        FALSE,\n",
    "        TRUE\n",
    "      ),\n",
    "    vaccinated_and_boosted_at_covid = vaccinated_at_covid & boosted_at_covid,\n",
    "    vaccine_state = \n",
    "      dplyr::case_when(\n",
    "        vaccinated_and_boosted_at_covid ~ 'Vaccinated and boosted',\n",
    "        vaccinated_at_covid & !boosted_at_covid ~ 'Vaccinated',\n",
    "        !vaccinated_at_covid ~ 'Unvaccinated'\n",
    "      ),\n",
    "    long_covid_symptoms = !is.na(time_long_covid),\n",
    "    long_covid_diagnosis = !is.na(time_long_covid_diagnosis)\n",
    "  )"
   ]
  },
  {
   "cell_type": "code",
   "execution_count": null,
   "id": "d698dee3-7541-442c-b4eb-f6ba11759d12",
   "metadata": {
    "tags": []
   },
   "outputs": [],
   "source": [
    "# this part sucks to do but gives pretty printing\n",
    "table1::label(df_tab1$sex) <- 'Sex'\n",
    "table1::label(df_tab1$age_covid) <- 'Age (y)'\n",
    "table1::label(df_tab1$age_group) <- 'Age group'\n",
    "table1::label(df_tab1$race) <- 'Race'\n",
    "table1::label(df_tab1$ethnicity) <- 'Ethnicity'\n",
    "table1::label(df_tab1$anxiety) <- 'Anxiety'\n",
    "table1::label(df_tab1$cancer) <- 'Cancer'\n",
    "table1::label(df_tab1$cardiovascular_disease) <- 'Cardiovascular Disease'\n",
    "table1::label(df_tab1$cerebrovascular_disease_stroke_tia) <- 'Cerebrovascular Disease/Stroke/TIA'\n",
    "table1::label(df_tab1$copd) <- 'COPD'\n",
    "table1::label(df_tab1$ckd) <- 'CKD'\n",
    "table1::label(df_tab1$dementia) <- 'Dementia'\n",
    "table1::label(df_tab1$depression) <- 'Depression'\n",
    "table1::label(df_tab1$diabetes) <- 'Diabetes'\n",
    "table1::label(df_tab1$immunocompromised) <- 'Immunocompromised'\n",
    "table1::label(df_tab1$pad) <- 'PAD'\n",
    "table1::label(df_tab1$smoking) <- 'Smoking Status'\n",
    "table1::label(df_tab1$flu_vaccinated) <- '1+ influenza vaccines within 2 years prior'\n",
    "table1::label(df_tab1$inpatient_count) <- 'Number of inpatient encounters within last 2 years'\n",
    "table1::label(df_tab1$outpatient_count) <- 'Number of outpatient encounters within last 2 years'\n",
    "table1::label(df_tab1$year_month) <- 'Year-month of COVID infection'\n",
    "table1::label(df_tab1$blood_panel_count) <- 'Number of unique blood panel labs within 2 years prior'\n",
    "table1::label(df_tab1$vaccinated_at_covid) <- 'Vaccinated at time of COVID'\n",
    "table1::label(df_tab1$boosted_at_covid) <- 'Boosted at time of COVID'\n",
    "table1::label(df_tab1$vaccine_state) <- 'Vaccination status at time of COVID-19 infection'\n",
    "table1::label(df_tab1$long_covid_symptoms) <- 'Developed Long COVID symptoms'\n",
    "table1::label(df_tab1$long_covid_diagnosis) <- 'Diagnosed with Long COVID'\n",
    "    \n",
    "\n",
    "tab1 <- \n",
    "  table1::table1(\n",
    "    ~ sex + \n",
    "      age_covid +\n",
    "      #age_group +\n",
    "      year_month +\n",
    "      race + \n",
    "      ethnicity +\n",
    "      anxiety + \n",
    "      cardiovascular_disease + \n",
    "      cancer + \n",
    "      cerebrovascular_disease_stroke_tia +\n",
    "      ckd +\n",
    "      copd +\n",
    "      dementia +\n",
    "      depression +\n",
    "      diabetes +\n",
    "      immunocompromised +\n",
    "      pad  +\n",
    "      smoking +\n",
    "      flu_vaccinated +\n",
    "      inpatient_count +\n",
    "      outpatient_count +\n",
    "      blood_panel_count +\n",
    "      long_covid_symptoms +\n",
    "      long_covid_diagnosis |\n",
    "      vaccine_state,\n",
    "    data = df_tab1,\n",
    "    big.mark = ','\n",
    "  ) \n"
   ]
  },
  {
   "cell_type": "code",
   "execution_count": null,
   "id": "0689c7e3-60ee-4333-a296-a10a9dbe4de7",
   "metadata": {
    "tags": []
   },
   "outputs": [],
   "source": [
    "tab1_df <- \n",
    "  as.data.frame(tab1, make.names = FALSE) |>\n",
    "  setNames(c('Feature', 'Unvaccinated', 'Vaccinated', 'Vaccinated and boosted', 'Overall'))"
   ]
  },
  {
   "cell_type": "code",
   "execution_count": null,
   "id": "169064b6-36bd-478f-9105-7aadcd883484",
   "metadata": {
    "tags": []
   },
   "outputs": [],
   "source": [
    "add.to.row <- list()\n",
    "add.to.row$pos <- list()\n",
    "add.to.row$pos[[1]] <- c(0)\n",
    "add.to.row$command <- \n",
    "  paste0(\n",
    "    \"\\\\hline \\n\",\n",
    "    \"\\\\endfirsthead \\n\",\n",
    "    \"\\\\multicolumn{5}{p{\\\\textwidth}}{{ \\\\bfseries \\\\tablename\\ \\\\thetable{} -- continued from previous page}} \\\\ \\n\",\n",
    "    \"\\\\hline Feature & Unvaccinated & Vaccinated & Vaccinated and boosted & Overall \\\\\\\\ \\\\hline \\n\",\n",
    "    \"\\\\endhead \\n\",\n",
    "    \"\\\\hline \\\\multicolumn{5}{p{\\\\textwidth}}{{Continued on next page}} \\\\\\\\ \\\\hline \\n\",\n",
    "    \"\\\\endfoot \\n\",\n",
    "    \"\\\\hline \\n\",\n",
    "    \"\\\\endlastfoot \\n\"\n",
    "  )\n",
    "\n",
    "#align <- c('', \"p{0.2\\\\textwidth}\", \"p{0.2\\\\textwidth}\", \"p{0.6\\\\textwidth}\")\n",
    "\n",
    "caption <- \n",
    "  paste0(\n",
    "    'Overall summary statistics of our analyzed population of patients who experienced a COVID-19 infection, ',\n",
    "    'stratified by vaccination status at time of COVID-19 infection.'\n",
    "  )\n",
    "\n",
    "label <- 'tab:table_1'\n",
    "\n",
    "xtable::print.xtable(\n",
    "  xtable::xtable(\n",
    "    tab1_df,\n",
    "    label = label,\n",
    "    caption = caption,\n",
    "    floating = FALSE#,\n",
    "    #align = align\n",
    "  ),\n",
    "  type = 'latex', \n",
    "  file = file.path(results_dir, \"table_1.tex\"), \n",
    "  include.rownames = FALSE,\n",
    "  comment = FALSE,\n",
    "  timestamp = NULL,\n",
    "  floating = FALSE,\n",
    "  add.to.row = add.to.row,\n",
    "  tabular.environment = \"longtable\",\n",
    "  hline.after = FALSE,\n",
    "  format.args = list(digits = 3, big.mark = \",\")\n",
    ")"
   ]
  },
  {
   "cell_type": "code",
   "execution_count": null,
   "id": "35da4601-6189-4033-a5f5-dabe25b94beb",
   "metadata": {
    "tags": []
   },
   "outputs": [],
   "source": [
    "tab1_df"
   ]
  },
  {
   "cell_type": "code",
   "execution_count": null,
   "id": "7b466d6d-ed1a-4701-8653-e96cb2903380",
   "metadata": {
    "tags": []
   },
   "outputs": [],
   "source": [
    "write_table(tab1_df, file.path(results_dir, 'table_1.csv'))"
   ]
  },
  {
   "cell_type": "code",
   "execution_count": null,
   "id": "9e1485c7-657b-4954-af3d-b3918cce40d2",
   "metadata": {},
   "outputs": [],
   "source": []
  },
  {
   "cell_type": "code",
   "execution_count": null,
   "id": "daa35b4b-3a6f-44d0-9553-0e3bdce2dc58",
   "metadata": {
    "tags": []
   },
   "outputs": [],
   "source": [
    "tab1_alt <- \n",
    "  table1::table1(\n",
    "    ~ sex + \n",
    "      age_covid +\n",
    "      #age_group +\n",
    "      race + \n",
    "      ethnicity +\n",
    "      anxiety + \n",
    "      cardiovascular_disease + \n",
    "      cancer + \n",
    "      cerebrovascular_disease_stroke_tia +\n",
    "      ckd +\n",
    "      copd +\n",
    "      dementia +\n",
    "      depression +\n",
    "      diabetes +\n",
    "      immunocompromised +\n",
    "      pad  +\n",
    "      smoking +\n",
    "      flu_vaccinated +\n",
    "      inpatient_count |\n",
    "      vaccine_state,\n",
    "    data = df_tab1\n",
    "  ) \n",
    "\n",
    "as.data.frame(tab1_alt)\n",
    "\n",
    "write_table(as.data.frame(tab1_alt), file.path(results_dir, 'table_1_alt.csv'))\n",
    "\n",
    "caption <- \n",
    "  paste0(\n",
    "    'Overall summary statistics of our analyzed population of patients who experienced a COVID-19 infection, ',\n",
    "    'stratified by vaccination status at time of COVID-19 infection.'\n",
    "  )\n",
    "label <- 'tab:table_1'\n",
    "\n",
    "write_as_xtable(\n",
    "  as.data.frame(tab1_alt), \n",
    "  file.path(results_dir, 'table_1_alt.tex'), \n",
    "  caption = caption, \n",
    "  label = label\n",
    ")"
   ]
  },
  {
   "cell_type": "code",
   "execution_count": null,
   "id": "7b53ed74-e8dd-4be5-9d99-4e71b449f028",
   "metadata": {},
   "outputs": [],
   "source": []
  },
  {
   "cell_type": "code",
   "execution_count": null,
   "id": "23f5f159-fda0-4746-91fa-7ddffa09c7bf",
   "metadata": {},
   "outputs": [],
   "source": []
  }
 ],
 "metadata": {
  "kernelspec": {
   "display_name": "R",
   "language": "R",
   "name": "ir"
  },
  "language_info": {
   "codemirror_mode": "r",
   "file_extension": ".r",
   "mimetype": "text/x-r-source",
   "name": "R",
   "pygments_lexer": "r",
   "version": "4.1.3"
  }
 },
 "nbformat": 4,
 "nbformat_minor": 5
}
